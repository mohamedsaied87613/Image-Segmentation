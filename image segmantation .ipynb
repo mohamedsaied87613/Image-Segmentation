{
 "cells": [
  {
   "cell_type": "code",
   "execution_count": 45,
   "id": "98a9f8f2",
   "metadata": {},
   "outputs": [],
   "source": [
    "from scipy import io\n",
    "import scipy\n",
    "import os\n",
    "import scipy.misc\n",
    "import imageio\n",
    "from PIL import Image\n",
    "from IPython.display import display\n"
   ]
  },
  {
   "cell_type": "code",
   "execution_count": 30,
   "id": "470576cd",
   "metadata": {},
   "outputs": [
    {
     "data": {
      "text/plain": [
       "\"#\\nfiles=['train','test','val']\\nfor sub_dir_name in files:\\n    sub_pth = os.path.join(PATH,sub_dir_name)\\n   \\n    save_pth = os.path.join(root,'data\\\\converted_mat_jpg',sub_dir_name)\\n    os.makedirs(save_pth,exist_ok=True)                                    #to save gt converted images\\n    print('Start conversion:   '+sub_dir_name)\\n    \\n    for filename in os.listdir(sub_pth):\\n        # Read all data in the mat file\\n        #mat file contains data stored in dictionary form\\n        #Include dict_keys(['__globals__','groundTruth','__header__','__version__'])\\n        #If you want to use the contour in'groundTruth']\\n        #x['groundTruth'][0][0][0][0][1] is the outline\\n        #x['groundTruth'][0][0][0][0][0] is the segmentation map\\n        data = io.loadmat(os.path.join(sub_pth,filename))\\n        edge_data = data['groundTruth'][0][0][0][0][1]\\n        #Store the normalized data: 0<x<1\\n        #So need to restore back to 0<x<255\\n        edge_data_255 = edge_data * 255\\n        new_img_name = filename.split('.')[0]+'.jpg'\\n        print(new_img_name)\\n        imageio.imwrite(os.path.join(save_pth,new_img_name), edge_data_255)  # save Picture\\n#\""
      ]
     },
     "execution_count": 30,
     "metadata": {},
     "output_type": "execute_result"
    }
   ],
   "source": [
    "\"\"\"\n",
    "###RUN IT ONE TIME TO CONVERT IMAGES\n",
    "###When running, you need to change the root value to the corresponding root directory where BSD500 is located\n",
    "# reference https://www.programmersought.com/article/50936088861/\n",
    "root = \"C:\\\\Users\\\\smart\\\\Desktop\\\\assignment 2\\\\BSR\\\\BSDS500\"\n",
    "PATH = os.path.join(root,'data\\\\groundTruth')\n",
    "files=['train','test','val']\n",
    "for sub_dir_name in files:\n",
    "    sub_pth = os.path.join(PATH,sub_dir_name)\n",
    "   \n",
    "    save_pth = os.path.join(root,'data\\\\converted_mat_jpg',sub_dir_name)\n",
    "    os.makedirs(save_pth,exist_ok=True)                                    #to save gt converted images\n",
    "    print('Start conversion:   '+sub_dir_name)\n",
    "    \n",
    "    for filename in os.listdir(sub_pth):\n",
    "        # Read all data in the mat file\n",
    "        #mat file contains data stored in dictionary form\n",
    "        #Include dict_keys(['__globals__','groundTruth','__header__','__version__'])\n",
    "        #If you want to use the contour in'groundTruth']\n",
    "        #x['groundTruth'][0][0][0][0][1] is the outline\n",
    "        #x['groundTruth'][0][0][0][0][0] is the segmentation map\n",
    "        data = io.loadmat(os.path.join(sub_pth,filename))\n",
    "        edge_data = data['groundTruth'][0][0][0][0][1]\n",
    "        #Store the normalized data: 0<x<1\n",
    "        #So need to restore back to 0<x<255\n",
    "        edge_data_255 = edge_data * 255\n",
    "        new_img_name = filename.split('.')[0]+'.jpg'\n",
    "        print(new_img_name)\n",
    "        imageio.imwrite(os.path.join(save_pth,new_img_name), edge_data_255)  # save Picture\n",
    "\"\"\""
   ]
  },
  {
   "cell_type": "code",
   "execution_count": 51,
   "id": "c6e1e837",
   "metadata": {},
   "outputs": [],
   "source": [
    "root = \"C:\\\\Users\\\\smart\\\\Desktop\\\\assignment 2\\\\BSR\\\\BSDS500\\\\data\\\\images\"\n",
    "converted  = \"C:\\\\Users\\\\smart\\\\Desktop\\\\assignment 2\\\\BSR\\\\BSDS500\\\\data\\\\converted_mat_jpg\"\n",
    "files=['train','test']\n",
    "for sub_dir_name in files:\n",
    "   \n",
    "    sub_root = os.path.join(root,sub_dir_name)\n",
    "    sub_converted = os.path.join(converted,sub_dir_name)\n",
    "    \n",
    "    for filename in os.listdir(sub_root):\n",
    "        im=Image.open(os.path.join(sub_root,filename))\n",
    "        im_gt=Image.open(os.path.join(sub_converted,filename))\n",
    "        new_im= Image.new('RGB', (im.width + im_gt.width , im.height)  )      #HORIZONTAL CONCAT\n",
    "        new_im.paste(im, (0, 0))\n",
    "        new_im.paste(im_gt, (im.width, 0))   \n",
    "        #display(new_im)"
   ]
  },
  {
   "cell_type": "code",
   "execution_count": null,
   "id": "1b77d059",
   "metadata": {},
   "outputs": [],
   "source": []
  }
 ],
 "metadata": {
  "kernelspec": {
   "display_name": "Python 3",
   "language": "python",
   "name": "python3"
  },
  "language_info": {
   "codemirror_mode": {
    "name": "ipython",
    "version": 3
   },
   "file_extension": ".py",
   "mimetype": "text/x-python",
   "name": "python",
   "nbconvert_exporter": "python",
   "pygments_lexer": "ipython3",
   "version": "3.8.8"
  }
 },
 "nbformat": 4,
 "nbformat_minor": 5
}
