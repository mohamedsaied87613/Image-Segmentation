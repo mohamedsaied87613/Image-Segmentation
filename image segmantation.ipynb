{
 "cells": [
  {
   "cell_type": "code",
   "execution_count": 39,
   "id": "6c5cc22b",
   "metadata": {},
   "outputs": [],
   "source": [
    "from scipy import io\n",
    "import scipy\n",
    "import os\n",
    "import scipy.misc\n",
    "import imageio\n",
    "from PIL import Image\n",
    "from IPython.display import display\n"
   ]
  },
  {
   "cell_type": "code",
   "execution_count": 46,
   "id": "5acd0808",
   "metadata": {},
   "outputs": [],
   "source": [
    "###RUN IT ONE TIME TO CONVERT IMAGES\n",
    "###When running, you need to change the root value to the corresponding root directory where BSD500 is located\n",
    "# reference https://www.programmersought.com/article/50936088861/\n",
    "root = \"C:\\\\Users\\\\smart\\\\Desktop\\\\assignment 2\\\\BSR\\\\BSDS500\"\n",
    "PATH = os.path.join(root,'data\\\\groundTruth\\\\test')\n",
    "\n",
    "save_pth = os.path.join(root,'data\\\\converted_mat_jpg','test')\n",
    "os.makedirs(save_pth,exist_ok=True)                                    #to save gt converted images\n",
    "pics=os.listdir(sub_pth)[0:50]\n",
    "for filename in pics:\n",
    "        data = io.loadmat(os.path.join(sub_pth,filename))\n",
    "        c=data['groundTruth'].shape[1]\n",
    "        for n in range(c):\n",
    "            edge_data = data['groundTruth'][0][n][0][0][1]\n",
    "            edge_data_255 = edge_data * 255\n",
    "            new_img_name = filename.split('.')[0]+'('+str(n)+')'+'.jpg'\n",
    "            imageio.imwrite(os.path.join(save_pth,new_img_name), edge_data_255)  # save Picture     "
   ]
  },
  {
   "cell_type": "code",
   "execution_count": 48,
   "id": "3b44ceed",
   "metadata": {},
   "outputs": [
    {
     "ename": "FileNotFoundError",
     "evalue": "[Errno 2] No such file or directory: 'C:\\\\Users\\\\smart\\\\Desktop\\\\assignment 2\\\\BSR\\\\BSDS500\\\\data\\\\converted_mat_jpg\\\\test\\\\100007.mat'",
     "output_type": "error",
     "traceback": [
      "\u001b[1;31m---------------------------------------------------------------------------\u001b[0m",
      "\u001b[1;31mFileNotFoundError\u001b[0m                         Traceback (most recent call last)",
      "\u001b[1;32m<ipython-input-48-d22a0326a2fd>\u001b[0m in \u001b[0;36m<module>\u001b[1;34m\u001b[0m\n\u001b[0;32m      3\u001b[0m \u001b[1;33m\u001b[0m\u001b[0m\n\u001b[0;32m      4\u001b[0m \u001b[1;32mfor\u001b[0m \u001b[0mfilename\u001b[0m \u001b[1;32min\u001b[0m \u001b[0mpics\u001b[0m\u001b[1;33m:\u001b[0m\u001b[1;33m\u001b[0m\u001b[1;33m\u001b[0m\u001b[0m\n\u001b[1;32m----> 5\u001b[1;33m     \u001b[0mim_gt\u001b[0m\u001b[1;33m=\u001b[0m\u001b[0mImage\u001b[0m\u001b[1;33m.\u001b[0m\u001b[0mopen\u001b[0m\u001b[1;33m(\u001b[0m\u001b[0mos\u001b[0m\u001b[1;33m.\u001b[0m\u001b[0mpath\u001b[0m\u001b[1;33m.\u001b[0m\u001b[0mjoin\u001b[0m\u001b[1;33m(\u001b[0m\u001b[0mconverted\u001b[0m\u001b[1;33m,\u001b[0m\u001b[0mfilename\u001b[0m\u001b[1;33m)\u001b[0m\u001b[1;33m)\u001b[0m\u001b[1;33m\u001b[0m\u001b[1;33m\u001b[0m\u001b[0m\n\u001b[0m\u001b[0;32m      6\u001b[0m     \u001b[0mnew_im\u001b[0m\u001b[1;33m=\u001b[0m \u001b[0mImage\u001b[0m\u001b[1;33m.\u001b[0m\u001b[0mnew\u001b[0m\u001b[1;33m(\u001b[0m\u001b[1;34m'RGB'\u001b[0m\u001b[1;33m,\u001b[0m \u001b[1;33m(\u001b[0m\u001b[0mim\u001b[0m\u001b[1;33m.\u001b[0m\u001b[0mwidth\u001b[0m \u001b[1;33m+\u001b[0m \u001b[0mim_gt\u001b[0m\u001b[1;33m.\u001b[0m\u001b[0mwidth\u001b[0m \u001b[1;33m,\u001b[0m \u001b[0mim\u001b[0m\u001b[1;33m.\u001b[0m\u001b[0mheight\u001b[0m\u001b[1;33m)\u001b[0m  \u001b[1;33m)\u001b[0m      \u001b[1;31m#HORIZONTAL CONCAT\u001b[0m\u001b[1;33m\u001b[0m\u001b[1;33m\u001b[0m\u001b[0m\n\u001b[0;32m      7\u001b[0m     \u001b[0mnew_im\u001b[0m\u001b[1;33m.\u001b[0m\u001b[0mpaste\u001b[0m\u001b[1;33m(\u001b[0m\u001b[0mim\u001b[0m\u001b[1;33m,\u001b[0m \u001b[1;33m(\u001b[0m\u001b[1;36m0\u001b[0m\u001b[1;33m,\u001b[0m \u001b[1;36m0\u001b[0m\u001b[1;33m)\u001b[0m\u001b[1;33m)\u001b[0m\u001b[1;33m\u001b[0m\u001b[1;33m\u001b[0m\u001b[0m\n",
      "\u001b[1;32m~\\anaconda3\\lib\\site-packages\\PIL\\Image.py\u001b[0m in \u001b[0;36mopen\u001b[1;34m(fp, mode, formats)\u001b[0m\n\u001b[0;32m   2910\u001b[0m \u001b[1;33m\u001b[0m\u001b[0m\n\u001b[0;32m   2911\u001b[0m     \u001b[1;32mif\u001b[0m \u001b[0mfilename\u001b[0m\u001b[1;33m:\u001b[0m\u001b[1;33m\u001b[0m\u001b[1;33m\u001b[0m\u001b[0m\n\u001b[1;32m-> 2912\u001b[1;33m         \u001b[0mfp\u001b[0m \u001b[1;33m=\u001b[0m \u001b[0mbuiltins\u001b[0m\u001b[1;33m.\u001b[0m\u001b[0mopen\u001b[0m\u001b[1;33m(\u001b[0m\u001b[0mfilename\u001b[0m\u001b[1;33m,\u001b[0m \u001b[1;34m\"rb\"\u001b[0m\u001b[1;33m)\u001b[0m\u001b[1;33m\u001b[0m\u001b[1;33m\u001b[0m\u001b[0m\n\u001b[0m\u001b[0;32m   2913\u001b[0m         \u001b[0mexclusive_fp\u001b[0m \u001b[1;33m=\u001b[0m \u001b[1;32mTrue\u001b[0m\u001b[1;33m\u001b[0m\u001b[1;33m\u001b[0m\u001b[0m\n\u001b[0;32m   2914\u001b[0m \u001b[1;33m\u001b[0m\u001b[0m\n",
      "\u001b[1;31mFileNotFoundError\u001b[0m: [Errno 2] No such file or directory: 'C:\\\\Users\\\\smart\\\\Desktop\\\\assignment 2\\\\BSR\\\\BSDS500\\\\data\\\\converted_mat_jpg\\\\test\\\\100007.mat'"
     ]
    }
   ],
   "source": [
    "root = \"C:\\\\Users\\\\smart\\\\Desktop\\\\assignment 2\\\\BSR\\\\BSDS500\\\\data\\\\images\"\n",
    "converted  = \"C:\\\\Users\\\\smart\\\\Desktop\\\\assignment 2\\\\BSR\\\\BSDS500\\\\data\\\\converted_mat_jpg\"\n",
    "files=['test']\n",
    "for sub_dir_name in files:\n",
    "   \n",
    "    sub_root = os.path.join(root,sub_dir_name)\n",
    "    sub_converted = os.path.join(converted,sub_dir_name)\n",
    "    \n",
    "    for filename in os.listdir(sub_converted):\n",
    "        im=Image.open(os.path.join(sub_converted,filename))\n",
    "        im_gt=Image.open(os.path.join(sub_root,filename))\n",
    "        new_im= Image.new('RGB', (im.width + im_gt.width , im.height)  )      #HORIZONTAL CONCAT\n",
    "        new_im.paste(im, (0, 0))\n",
    "        new_im.paste(im_gt, (im.width, 0))   \n",
    "        display(new_im)"
   ]
  },
  {
   "cell_type": "code",
   "execution_count": 6,
   "id": "1e1096dd",
   "metadata": {},
   "outputs": [],
   "source": []
  },
  {
   "cell_type": "code",
   "execution_count": null,
   "id": "3caa99d2",
   "metadata": {},
   "outputs": [],
   "source": []
  }
 ],
 "metadata": {
  "kernelspec": {
   "display_name": "Python 3",
   "language": "python",
   "name": "python3"
  },
  "language_info": {
   "codemirror_mode": {
    "name": "ipython",
    "version": 3
   },
   "file_extension": ".py",
   "mimetype": "text/x-python",
   "name": "python",
   "nbconvert_exporter": "python",
   "pygments_lexer": "ipython3",
   "version": "3.8.8"
  }
 },
 "nbformat": 4,
 "nbformat_minor": 5
}
