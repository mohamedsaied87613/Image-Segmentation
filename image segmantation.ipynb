{
 "cells": [
  {
   "cell_type": "code",
   "execution_count": 207,
   "id": "6c5cc22b",
   "metadata": {},
   "outputs": [],
   "source": [
    "import scipy\n",
    "import scipy.misc\n",
    "from scipy import io\n",
    "import numpy as np,numpy\n",
    "import os\n",
    "import imageio\n",
    "from PIL import Image\n",
    "from IPython.display import display\n",
    "from matplotlib import pyplot as plt\n",
    "%matplotlib inline "
   ]
  },
  {
   "cell_type": "code",
   "execution_count": 208,
   "id": "5acd0808",
   "metadata": {},
   "outputs": [],
   "source": [
    "###RUN IT ONE TIME TO CONVERT IMAGES\n",
    "###When running, you need to change the root value to the corresponding root directory where BSD500 is located\n",
    "# reference https://www.programmersought.com/article/50936088861/\n",
    "root = \"C:\\\\Users\\\\smart\\\\Desktop\\\\assignment 2\\\\BSR\\\\BSDS500\"\n",
    "PATH = os.path.join(root,'data\\\\groundTruth\\\\test')\n",
    "\n",
    "save_pth = os.path.join(root,'data\\\\converted_mat_jpg','test')\n",
    "os.makedirs(save_pth,exist_ok=True)                                    #to save gt converted images\n",
    "pics=os.listdir(PATH)[0:50]\n",
    "i=0\n",
    "for filename in pics:\n",
    "        data = io.loadmat(os.path.join(sub_pth,filename))\n",
    "        c=data['groundTruth'].shape[1]\n",
    "        for n in range(c):\n",
    "            edge_data = data['groundTruth'][0][n][0][0][1]\n",
    "            edge_data_255 = edge_data * 255\n",
    "            new_img_name = filename.split('.')[0]+'('+str(n)+')'+'.jpg'\n",
    "            imageio.imwrite(os.path.join(save_pth,new_img_name), edge_data_255)  # save Picture     \n",
    "            pics[i]=filename.split('.')[0]+'.jpg'\n",
    "        i=i+1\n",
    "            "
   ]
  },
  {
   "cell_type": "code",
   "execution_count": 209,
   "id": "3b44ceed",
   "metadata": {},
   "outputs": [],
   "source": [
    "root = \"C:\\\\Users\\\\smart\\\\Desktop\\\\assignment 2\\\\BSR\\\\BSDS500\\\\data\\\\images\\\\test\"\n",
    "converted  = \"C:\\\\Users\\\\smart\\\\Desktop\\\\assignment 2\\\\BSR\\\\BSDS500\\\\data\\\\converted_mat_jpg\\\\test\"\n",
    "for filename in pics:\n",
    "    \n",
    "    segs=[]\n",
    "    im=Image.open(os.path.join(root,filename))\n",
    "    \n",
    "    for file in os.listdir(converted):\n",
    "        if file.startswith(filename.split('.')[0]):\n",
    "            segs.append(file)\n",
    "        \n",
    "    new_im= Image.new('RGB', (im.width*(len(segs)+1) , im.height)  )      #HORIZONTAL CONCAT\n",
    "    new_im.paste(im, (0, 0))  \n",
    "    for i in range(len(segs)):\n",
    "        im_gt=Image.open( os.path.join(converted,segs[i])   )\n",
    "        new_im.paste(im_gt, (im.width*(i+1), 0))   \n",
    "    #display(new_im)\n"
   ]
  },
  {
   "cell_type": "code",
   "execution_count": 210,
   "id": "1e1096dd",
   "metadata": {},
   "outputs": [
    {
     "data": {
      "text/plain": [
       "(7720050, 3)"
      ]
     },
     "execution_count": 210,
     "metadata": {},
     "output_type": "execute_result"
    }
   ],
   "source": [
    "train_data = np.empty((0, 3))\n",
    "for filename in pics:\n",
    "    pic =Image.open(os.path.join(root,filename)  )\n",
    "    pixels = np.array(pic)\n",
    "    pixels=pixels.reshape((pixels.shape[0]*pixels.shape[1]),3)    \n",
    "    train_data=np.concatenate((train_data,pixels))\n",
    "train_data.shape"
   ]
  },
  {
   "cell_type": "code",
   "execution_count": null,
   "id": "6795ecff",
   "metadata": {},
   "outputs": [],
   "source": [
    "from sklearn.cluster import KMeans\n",
    "# k = 3 5 7 9 \n",
    "kmeans = KMeans(n_clusters=3)\n",
    "kmeans.fit(train_data)"
   ]
  },
  {
   "cell_type": "code",
   "execution_count": null,
   "id": "955d0eb3",
   "metadata": {},
   "outputs": [],
   "source": [
    "labels=kmeans.labels_\n",
    "labels.reshape(labels.shape[0],1)\n",
    "for filename in pics:\n",
    "    pic =np.array(Image.open(os.path.join(root,filename)))\n",
    "    size=pic.shape[0]*pic.shape[1]\n",
    "    new_pic=labels[0:size].reshape(pic.shape[0],pic.shape[1])\n",
    "    labels=labels[size:]\n",
    "    #plt.imshow(new_pic)\n",
    "    #plt.show()\n",
    "    "
   ]
  },
  {
   "cell_type": "code",
   "execution_count": null,
   "id": "b7796718",
   "metadata": {},
   "outputs": [],
   "source": []
  }
 ],
 "metadata": {
  "kernelspec": {
   "display_name": "Python 3",
   "language": "python",
   "name": "python3"
  },
  "language_info": {
   "codemirror_mode": {
    "name": "ipython",
    "version": 3
   },
   "file_extension": ".py",
   "mimetype": "text/x-python",
   "name": "python",
   "nbconvert_exporter": "python",
   "pygments_lexer": "ipython3",
   "version": "3.8.8"
  }
 },
 "nbformat": 4,
 "nbformat_minor": 5
}
