{
 "cells": [
  {
   "cell_type": "code",
   "execution_count": 1,
   "metadata": {
    "collapsed": true
   },
   "outputs": [],
   "source": [
    "import os\n",
    "import cv2\n",
    "import imageio\n",
    "import numpy as np\n",
    "from PIL import Image\n",
    "from matplotlib import pyplot as plt\n",
    "from scipy import io\n",
    "from sklearn.neighbors import kneighbors_graph\n",
    "from sklearn.cluster import KMeans\n",
    "from scipy.spatial import distance_matrix"
   ]
  },
  {
   "cell_type": "code",
   "execution_count": 2,
   "metadata": {
    "pycharm": {
     "name": "#%%\n"
    }
   },
   "outputs": [],
   "source": [
    "gt_path = 'BSR\\\\BSDS500\\\\data\\\\groundTruth\\\\test'\n",
    "pics = os.listdir(gt_path)[0:50]\n",
    "\n",
    "# create ground truth array\n",
    "\n",
    "groundTruth = []\n",
    "\n",
    "for filename in pics:\n",
    "\n",
    "    data = io.loadmat(os.path.join(gt_path, filename))\n",
    "    c = data['groundTruth'].shape[1]\n",
    "\n",
    "    groundTruthPerImage = []\n",
    "    for n in range(c):\n",
    "        edge_data = data['groundTruth'][0][n][0][0][0]\n",
    "        groundTruthPerImage.append(edge_data)\n",
    "\n",
    "    groundTruthPerImage = np.array(groundTruthPerImage)\n",
    "    groundTruth.append(groundTruthPerImage)\n",
    "\n",
    "groundTruth = np.array(groundTruth,dtype=object)\n",
    "\n",
    "#plt.imshow(groundTruth[0][0])\n",
    "#plt.show()"
   ]
  },
  {
   "cell_type": "code",
   "execution_count": 1,
   "metadata": {
    "pycharm": {
     "name": "#%%\n"
    }
   },
   "outputs": [
    {
     "ename": "NameError",
     "evalue": "name 'os' is not defined",
     "output_type": "error",
     "traceback": [
      "\u001B[1;31m---------------------------------------------------------------------------\u001B[0m",
      "\u001B[1;31mNameError\u001B[0m                                 Traceback (most recent call last)",
      "\u001B[1;32m~\\AppData\\Local\\Temp\\ipykernel_21660\\1009531714.py\u001B[0m in \u001B[0;36m<module>\u001B[1;34m\u001B[0m\n\u001B[0;32m      2\u001B[0m \u001B[1;33m\u001B[0m\u001B[0m\n\u001B[0;32m      3\u001B[0m \u001B[0mroot\u001B[0m \u001B[1;33m=\u001B[0m \u001B[1;34m\"BSR\\\\BSDS500\"\u001B[0m\u001B[1;33m\u001B[0m\u001B[1;33m\u001B[0m\u001B[0m\n\u001B[1;32m----> 4\u001B[1;33m \u001B[0mPATH\u001B[0m \u001B[1;33m=\u001B[0m \u001B[0mos\u001B[0m\u001B[1;33m.\u001B[0m\u001B[0mpath\u001B[0m\u001B[1;33m.\u001B[0m\u001B[0mjoin\u001B[0m\u001B[1;33m(\u001B[0m\u001B[0mroot\u001B[0m\u001B[1;33m,\u001B[0m \u001B[1;34m'data\\\\groundTruth\\\\test'\u001B[0m\u001B[1;33m)\u001B[0m\u001B[1;33m\u001B[0m\u001B[1;33m\u001B[0m\u001B[0m\n\u001B[0m\u001B[0;32m      5\u001B[0m \u001B[1;33m\u001B[0m\u001B[0m\n\u001B[0;32m      6\u001B[0m \u001B[0msave_pth\u001B[0m \u001B[1;33m=\u001B[0m \u001B[0mos\u001B[0m\u001B[1;33m.\u001B[0m\u001B[0mpath\u001B[0m\u001B[1;33m.\u001B[0m\u001B[0mjoin\u001B[0m\u001B[1;33m(\u001B[0m\u001B[0mroot\u001B[0m\u001B[1;33m,\u001B[0m \u001B[1;34m'data\\\\converted_mat_jpg'\u001B[0m\u001B[1;33m,\u001B[0m \u001B[1;34m'test'\u001B[0m\u001B[1;33m)\u001B[0m\u001B[1;33m\u001B[0m\u001B[1;33m\u001B[0m\u001B[0m\n",
      "\u001B[1;31mNameError\u001B[0m: name 'os' is not defined"
     ]
    }
   ],
   "source": [
    "#####################################################################################\n",
    "\n",
    "root = \"BSR\\\\BSDS500\"\n",
    "PATH = os.path.join(root, 'data\\\\groundTruth\\\\test')\n",
    "\n",
    "save_pth = os.path.join(root, 'data\\\\converted_mat_jpg', 'test')\n",
    "os.makedirs(save_pth, exist_ok=True)  #to save gt converted images\n",
    "pics = os.listdir(PATH)[0:50]\n",
    "\n",
    "# create converted images for ground truth segmentation\n",
    "i = 0\n",
    "for filename in pics:\n",
    "    data = io.loadmat(os.path.join(PATH, filename))\n",
    "    c = data['groundTruth'].shape[1]\n",
    "    for n in range(c):\n",
    "        edge_data = data['groundTruth'][0][n][0][0][1]\n",
    "        edge_data_255 = edge_data * 255\n",
    "        new_img_name = filename.split('.')[0] + '(' + str(n) + ')' + '.jpg'\n",
    "        imageio.imwrite(os.path.join(save_pth, new_img_name), edge_data_255)  # save Picture\n",
    "        pics[i] = filename.split('.')[0] + '.jpg'\n",
    "    i = i + 1\n",
    "\n",
    "\n",
    "# Visualize the image and the ground truth segmentation\n",
    "\n",
    "root = \"BSR\\\\BSDS500\\\\data\\\\images\\\\test\"\n",
    "converted = \"BSR\\\\BSDS500\\\\data\\\\converted_mat_jpg\\\\test\"\n",
    "\n",
    "for filename in pics:\n",
    "    gt = []\n",
    "    im = Image.open(os.path.join(root, filename))\n",
    "\n",
    "    for file in os.listdir(converted):\n",
    "        if file.startswith(filename.split('.')[0]):\n",
    "            gt.append(file)\n",
    "\n",
    "    new_im = Image.new('RGB', (im.width * (len(gt) + 1), im.height))  #HORIZONTAL CONCAT\n",
    "    new_im.paste(im, (0, 0))\n",
    "\n",
    "    for i in range(len(gt)):\n",
    "        im_gt = Image.open(os.path.join(converted, gt[i]))\n",
    "        new_im.paste(im_gt, (im.width * (i + 1), 0))\n",
    "    #plt.imshow(new_im)\n",
    "    #plt.show()\n",
    "\n",
    "#####################################################################################"
   ]
  },
  {
   "cell_type": "code",
   "execution_count": 2,
   "metadata": {
    "pycharm": {
     "name": "#%%\n"
    }
   },
   "outputs": [
    {
     "ename": "NameError",
     "evalue": "name 'pics' is not defined",
     "output_type": "error",
     "traceback": [
      "\u001B[1;31m---------------------------------------------------------------------------\u001B[0m",
      "\u001B[1;31mNameError\u001B[0m                                 Traceback (most recent call last)",
      "\u001B[1;32m~\\AppData\\Local\\Temp\\ipykernel_21660\\2339347815.py\u001B[0m in \u001B[0;36m<module>\u001B[1;34m\u001B[0m\n\u001B[0;32m      5\u001B[0m \u001B[0mimages_path\u001B[0m \u001B[1;33m=\u001B[0m \u001B[1;34m\"BSR\\\\BSDS500\\\\data\\\\images\\\\test\\\\\"\u001B[0m\u001B[1;33m\u001B[0m\u001B[1;33m\u001B[0m\u001B[0m\n\u001B[0;32m      6\u001B[0m \u001B[1;33m\u001B[0m\u001B[0m\n\u001B[1;32m----> 7\u001B[1;33m \u001B[1;32mfor\u001B[0m \u001B[0mfilename\u001B[0m \u001B[1;32min\u001B[0m \u001B[0mpics\u001B[0m\u001B[1;33m:\u001B[0m\u001B[1;33m\u001B[0m\u001B[1;33m\u001B[0m\u001B[0m\n\u001B[0m\u001B[0;32m      8\u001B[0m     \u001B[0mimg\u001B[0m \u001B[1;33m=\u001B[0m \u001B[0mcv2\u001B[0m\u001B[1;33m.\u001B[0m\u001B[0mimread\u001B[0m\u001B[1;33m(\u001B[0m\u001B[0mos\u001B[0m\u001B[1;33m.\u001B[0m\u001B[0mpath\u001B[0m\u001B[1;33m.\u001B[0m\u001B[0mjoin\u001B[0m\u001B[1;33m(\u001B[0m\u001B[0mimages_path\u001B[0m\u001B[1;33m,\u001B[0m \u001B[0mfilename\u001B[0m\u001B[1;33m)\u001B[0m\u001B[1;33m)\u001B[0m\u001B[1;33m\u001B[0m\u001B[1;33m\u001B[0m\u001B[0m\n\u001B[0;32m      9\u001B[0m     \u001B[0mim_rgb\u001B[0m \u001B[1;33m=\u001B[0m \u001B[0mcv2\u001B[0m\u001B[1;33m.\u001B[0m\u001B[0mcvtColor\u001B[0m\u001B[1;33m(\u001B[0m\u001B[0mimg\u001B[0m\u001B[1;33m,\u001B[0m \u001B[0mcv2\u001B[0m\u001B[1;33m.\u001B[0m\u001B[0mCOLOR_BGR2RGB\u001B[0m\u001B[1;33m)\u001B[0m\u001B[1;33m\u001B[0m\u001B[1;33m\u001B[0m\u001B[0m\n",
      "\u001B[1;31mNameError\u001B[0m: name 'pics' is not defined"
     ]
    }
   ],
   "source": [
    "# original images\n",
    "\n",
    "images = []\n",
    "\n",
    "images_path = \"BSR\\\\BSDS500\\\\data\\\\images\\\\test\\\\\"\n",
    "\n",
    "for filename in pics:\n",
    "    img = cv2.imread(os.path.join(images_path, filename))\n",
    "    im_rgb = cv2.cvtColor(img, cv2.COLOR_BGR2RGB)\n",
    "    images.append(im_rgb)\n",
    "\n",
    "images = np.array(images, dtype=object)\n",
    "plt.imshow(images[0])\n",
    "plt.show()\n",
    "\n",
    "flattened_images = np.empty((0, 3))\n",
    "\n",
    "for i in range(50):\n",
    "    flattened_image = images[i].reshape(images[i].shape[0] * images[i].shape[1], images[i].shape[2])\n",
    "    flattened_images = np.concatenate((flattened_images, flattened_image))"
   ]
  },
  {
   "cell_type": "code",
   "execution_count": 11,
   "metadata": {
    "pycharm": {
     "name": "#%%\n"
    }
   },
   "outputs": [],
   "source": [
    "from sklearn.cluster import KMeans\n",
    "\n",
    "\n",
    "# k = 3 5 7 9 11\n",
    "def image_segmentation(k):\n",
    "    segmented_images = []\n",
    "    flat_segmented_images = []\n",
    "\n",
    "    k_means = KMeans(n_clusters=k)\n",
    "    k_means.fit(flattened_images)\n",
    "\n",
    "    # build segmented images from clustering labels\n",
    "\n",
    "    labels = k_means.labels_\n",
    "    labels.reshape(labels.shape[0], 1)\n",
    "\n",
    "    index = 0\n",
    "    for i in range(50):\n",
    "        size = images[i].shape[0] * images[i].shape[1]\n",
    "        flat_segmentation = labels[index:size + index]\n",
    "\n",
    "        segmented_images.append(flat_segmentation.reshape(images[i].shape[0], images[i].shape[1]))\n",
    "\n",
    "        flat_segmented_images.append(flat_segmentation)\n",
    "        index += size\n",
    "\n",
    "    flat_segmented_images = np.array(flat_segmented_images, dtype=object)\n",
    "\n",
    "    return segmented_images, flat_segmented_images"
   ]
  },
  {
   "cell_type": "code",
   "execution_count": 12,
   "metadata": {
    "pycharm": {
     "name": "#%%\n"
    }
   },
   "outputs": [],
   "source": [
    "def recreate_groundTruth(image_index, gt_index, flat_segmented_images, k):\n",
    "\n",
    "    import sklearn.metrics.cluster as sk\n",
    "    from scipy.optimize import linear_sum_assignment\n",
    "\n",
    "    flattened_gt = np.array(groundTruth[image_index][gt_index]).reshape(\n",
    "        images[image_index].shape[0] * images[image_index].shape[1], 1)\n",
    "\n",
    "\n",
    "    # add dummy classes to match k clusters in case ground truth clusters < k\n",
    "    max_gt = flattened_gt.max()\n",
    "    if max_gt < k:\n",
    "        j = 1\n",
    "        for i in range(max_gt,k+1):\n",
    "            flattened_gt[i][0] = max_gt + j\n",
    "            j+=1\n",
    "\n",
    "     # add dummy classes to match k clusters in case k_means classes < k\n",
    "    max_seg = flat_segmented_images.max()\n",
    "    if max_seg < k:\n",
    "        j = 1\n",
    "        for i in range(max_seg,k+1):\n",
    "            flat_segmented_images[i] = max_seg + j\n",
    "            j+=1\n",
    "\n",
    "    contingency_matrix = sk.contingency_matrix(flattened_gt, flat_segmented_images)\n",
    "    gt_clusters = contingency_matrix.shape[0]\n",
    "\n",
    "    # max matching\n",
    "\n",
    "    idx = linear_sum_assignment(-contingency_matrix.T)[1]\n",
    "    for i in range(k):\n",
    "        contingency_matrix[[idx[i], i]] = contingency_matrix[[i, idx[i]]]\n",
    "        replaced_index = np.argwhere(flattened_gt == (idx[i]+1))\n",
    "        # give the major k clusters new values\n",
    "        flattened_gt[replaced_index] = gt_clusters + i + 1\n",
    "\n",
    "    # give the minor clusters (which will be merged into the major clusters) new values\n",
    "    values_gt = np.unique(flattened_gt)\n",
    "    for i in range(gt_clusters - k):\n",
    "        replaced_index = np.argwhere(flattened_gt == (values_gt[i]))\n",
    "        flattened_gt[replaced_index] = gt_clusters + k + i + 1\n",
    "\n",
    "\n",
    "    # merge the minor clusters into the major clusters\n",
    "    contingency_matrix = sk.contingency_matrix(flattened_gt, flat_segmented_imgs[image_index])\n",
    "    for i in range(k,gt_clusters):\n",
    "        replaced_index = np.argwhere(flattened_gt == (gt_clusters + i + 1))\n",
    "        flattened_gt[replaced_index] = gt_clusters + np.argmax(contingency_matrix[i]) + 1\n",
    "        contingency_matrix[np.argmax(contingency_matrix[i])] += contingency_matrix[i]\n",
    "    contingency_matrix = contingency_matrix[:k,:]\n",
    "\n",
    "\n",
    "    new_gt = flattened_gt.reshape((images[image_index].shape[0], images[image_index].shape[1]))\n",
    "\n",
    "    return new_gt,contingency_matrix"
   ]
  },
  {
   "cell_type": "code",
   "execution_count": 13,
   "metadata": {
    "pycharm": {
     "name": "#%%\n"
    }
   },
   "outputs": [],
   "source": [
    "def evaluate_segmentation(image_index, gt_index, flat_segmented_images, k):\n",
    "\n",
    "    new_gt,contingency_matrix = recreate_groundTruth(image_index,gt_index,flat_segmented_images,k)\n",
    "\n",
    "    # calculate F-score\n",
    "\n",
    "    precision = np.zeros((k, 1))\n",
    "    recall = np.zeros((k, 1))\n",
    "    f_score = np.zeros((k, 1))\n",
    "\n",
    "    for i in range(k):\n",
    "        TP = np.amax(contingency_matrix[:, i])\n",
    "        precision[i] = TP / np.sum(contingency_matrix[:, i])\n",
    "        recall[i] = TP / np.sum(contingency_matrix[i])\n",
    "\n",
    "        f_score[i] = (2 * precision[i] * recall[i]) / (precision[i] + recall[i])\n",
    "\n",
    "    f_score_avg = np.mean(f_score)\n",
    "\n",
    "    #############################################################################\n",
    "\n",
    "    # calculate conditional Entropy\n",
    "\n",
    "    pixels_count = images[image_index].shape[0] * images[image_index].shape[1]\n",
    "    entropy = 0\n",
    "    for i in range(k):\n",
    "        sum_cluster = np.sum(contingency_matrix[:, i])\n",
    "\n",
    "        H_cluster = 0\n",
    "        for j in range(k):\n",
    "            n_ij = contingency_matrix[i][j]\n",
    "            if n_ij != 0:\n",
    "                H_cluster += (n_ij / pixels_count) * np.log10(n_ij / sum_cluster)\n",
    "\n",
    "        entropy -= H_cluster\n",
    "\n",
    "    #############################################################################\n",
    "\n",
    "    return f_score_avg, entropy , new_gt"
   ]
  },
  {
   "cell_type": "code",
   "execution_count": 3,
   "metadata": {
    "pycharm": {
     "name": "#%%\n"
    }
   },
   "outputs": [
    {
     "ename": "NameError",
     "evalue": "name 'plt' is not defined",
     "output_type": "error",
     "traceback": [
      "\u001B[1;31m---------------------------------------------------------------------------\u001B[0m",
      "\u001B[1;31mNameError\u001B[0m                                 Traceback (most recent call last)",
      "\u001B[1;32m~\\AppData\\Local\\Temp\\ipykernel_21660\\814324961.py\u001B[0m in \u001B[0;36m<module>\u001B[1;34m\u001B[0m\n\u001B[0;32m      1\u001B[0m \u001B[0mk_clusters\u001B[0m \u001B[1;33m=\u001B[0m \u001B[1;33m[\u001B[0m\u001B[1;36m3\u001B[0m\u001B[1;33m,\u001B[0m\u001B[1;36m5\u001B[0m\u001B[1;33m,\u001B[0m\u001B[1;36m7\u001B[0m\u001B[1;33m,\u001B[0m\u001B[1;36m9\u001B[0m\u001B[1;33m,\u001B[0m\u001B[1;36m11\u001B[0m\u001B[1;33m]\u001B[0m\u001B[1;33m\u001B[0m\u001B[1;33m\u001B[0m\u001B[0m\n\u001B[0;32m      2\u001B[0m \u001B[1;33m\u001B[0m\u001B[0m\n\u001B[1;32m----> 3\u001B[1;33m \u001B[0mfig\u001B[0m\u001B[1;33m,\u001B[0m \u001B[0max\u001B[0m \u001B[1;33m=\u001B[0m \u001B[0mplt\u001B[0m\u001B[1;33m.\u001B[0m\u001B[0msubplots\u001B[0m\u001B[1;33m(\u001B[0m\u001B[1;36m1\u001B[0m\u001B[1;33m,\u001B[0m \u001B[1;36m5\u001B[0m\u001B[1;33m,\u001B[0m \u001B[0mfigsize\u001B[0m\u001B[1;33m=\u001B[0m\u001B[1;33m(\u001B[0m\u001B[1;36m35\u001B[0m\u001B[1;33m,\u001B[0m \u001B[1;36m10\u001B[0m\u001B[1;33m)\u001B[0m\u001B[1;33m)\u001B[0m\u001B[1;33m\u001B[0m\u001B[1;33m\u001B[0m\u001B[0m\n\u001B[0m\u001B[0;32m      4\u001B[0m \u001B[0mseg_fig\u001B[0m\u001B[1;33m,\u001B[0m \u001B[0mseg_axs\u001B[0m \u001B[1;33m=\u001B[0m \u001B[0mplt\u001B[0m\u001B[1;33m.\u001B[0m\u001B[0msubplots\u001B[0m\u001B[1;33m(\u001B[0m\u001B[1;36m50\u001B[0m\u001B[1;33m,\u001B[0m \u001B[1;36m5\u001B[0m\u001B[1;33m,\u001B[0m \u001B[0mfigsize\u001B[0m\u001B[1;33m=\u001B[0m\u001B[1;33m(\u001B[0m\u001B[1;36m70\u001B[0m\u001B[1;33m,\u001B[0m \u001B[1;36m500\u001B[0m\u001B[1;33m)\u001B[0m\u001B[1;33m)\u001B[0m\u001B[1;33m\u001B[0m\u001B[1;33m\u001B[0m\u001B[0m\n\u001B[0;32m      5\u001B[0m \u001B[1;33m\u001B[0m\u001B[0m\n",
      "\u001B[1;31mNameError\u001B[0m: name 'plt' is not defined"
     ]
    }
   ],
   "source": [
    "k_clusters = [3,5,7,9,11]\n",
    "\n",
    "fig, ax = plt.subplots(1, 5, figsize=(35, 10))\n",
    "seg_fig, seg_axs = plt.subplots(50, 5, figsize=(70, 500))\n",
    "\n",
    "for k in k_clusters:\n",
    "\n",
    "    plot = k_clusters.index(k)\n",
    "\n",
    "    F_score_entropy_list = np.zeros((50, 2))\n",
    "    segmented_imgs, flat_segmented_imgs = image_segmentation(k=k)\n",
    "\n",
    "    for img_index in range(50):\n",
    "        seg_axs[img_index][plot].imshow(segmented_imgs[img_index])\n",
    "\n",
    "        seg_f_score_avg = 0\n",
    "        seg_entropy_avg = 0\n",
    "        gt_count = len(groundTruth[img_index])\n",
    "\n",
    "        for gt_img_index in range(gt_count):\n",
    "            F_score, Entropy,_ = evaluate_segmentation(img_index, gt_img_index, flat_segmented_imgs[img_index], k=k)\n",
    "            seg_f_score_avg += F_score\n",
    "            seg_entropy_avg += Entropy\n",
    "\n",
    "        seg_f_score_avg /= gt_count\n",
    "        seg_entropy_avg /= gt_count\n",
    "\n",
    "        F_score_entropy_list[img_index][0] = seg_f_score_avg\n",
    "        F_score_entropy_list[img_index][1] = seg_entropy_avg\n",
    "\n",
    "    print(\"for k = {} : F-score per dataset: {}   Entropy per dataset: {}\".format(k, np.sum(\n",
    "        F_score_entropy_list[:, 0]) / 50, np.sum(F_score_entropy_list[:, 1]) / 50))\n",
    "\n",
    "    ax[plot].set_axis_off()\n",
    "    table = ax[plot].table(\n",
    "        cellText=F_score_entropy_list,\n",
    "        rowLabels=[r + 1 for r in range(50)],\n",
    "        colLabels=[\"Average F-score\", \"Average Conditional Entropy\"],\n",
    "        cellLoc='center',\n",
    "        loc='upper left')\n",
    "    table.scale(1, 5)\n",
    "    ax[plot].set_title('for k = {}'.format(k))\n",
    "\n",
    "plt.show()"
   ]
  },
  {
   "cell_type": "code",
   "execution_count": 4,
   "metadata": {
    "pycharm": {
     "name": "#%%\n"
    }
   },
   "outputs": [
    {
     "ename": "NameError",
     "evalue": "name 'image_segmentation' is not defined",
     "output_type": "error",
     "traceback": [
      "\u001B[1;31m---------------------------------------------------------------------------\u001B[0m",
      "\u001B[1;31mNameError\u001B[0m                                 Traceback (most recent call last)",
      "\u001B[1;32m~\\AppData\\Local\\Temp\\ipykernel_21660\\4091320005.py\u001B[0m in \u001B[0;36m<module>\u001B[1;34m\u001B[0m\n\u001B[1;32m----> 1\u001B[1;33m \u001B[0msegmented_imgs\u001B[0m\u001B[1;33m,\u001B[0m \u001B[0mflat_segmented_imgs\u001B[0m \u001B[1;33m=\u001B[0m \u001B[0mimage_segmentation\u001B[0m\u001B[1;33m(\u001B[0m\u001B[0mk\u001B[0m\u001B[1;33m=\u001B[0m\u001B[1;36m5\u001B[0m\u001B[1;33m)\u001B[0m\u001B[1;33m\u001B[0m\u001B[1;33m\u001B[0m\u001B[0m\n\u001B[0m\u001B[0;32m      2\u001B[0m \u001B[1;32mfor\u001B[0m \u001B[0mimg_index\u001B[0m \u001B[1;32min\u001B[0m \u001B[0mrange\u001B[0m\u001B[1;33m(\u001B[0m\u001B[1;36m5\u001B[0m\u001B[1;33m)\u001B[0m\u001B[1;33m:\u001B[0m\u001B[1;33m\u001B[0m\u001B[1;33m\u001B[0m\u001B[0m\n\u001B[0;32m      3\u001B[0m     \u001B[0mfig\u001B[0m\u001B[1;33m,\u001B[0m \u001B[0maxs\u001B[0m \u001B[1;33m=\u001B[0m \u001B[0mplt\u001B[0m\u001B[1;33m.\u001B[0m\u001B[0msubplots\u001B[0m\u001B[1;33m(\u001B[0m\u001B[1;36m1\u001B[0m\u001B[1;33m,\u001B[0m \u001B[1;36m6\u001B[0m\u001B[1;33m,\u001B[0m \u001B[0mfigsize\u001B[0m\u001B[1;33m=\u001B[0m\u001B[1;33m(\u001B[0m\u001B[1;36m100\u001B[0m\u001B[1;33m,\u001B[0m \u001B[1;36m20\u001B[0m\u001B[1;33m)\u001B[0m\u001B[1;33m)\u001B[0m\u001B[1;33m\u001B[0m\u001B[1;33m\u001B[0m\u001B[0m\n\u001B[0;32m      4\u001B[0m     \u001B[0maxs\u001B[0m\u001B[1;33m[\u001B[0m\u001B[1;36m0\u001B[0m\u001B[1;33m]\u001B[0m\u001B[1;33m.\u001B[0m\u001B[0mimshow\u001B[0m\u001B[1;33m(\u001B[0m\u001B[0msegmented_imgs\u001B[0m\u001B[1;33m[\u001B[0m\u001B[0mimg_index\u001B[0m\u001B[1;33m]\u001B[0m \u001B[1;33m+\u001B[0m \u001B[1;36m1\u001B[0m\u001B[1;33m)\u001B[0m\u001B[1;33m\u001B[0m\u001B[1;33m\u001B[0m\u001B[0m\n\u001B[0;32m      5\u001B[0m     \u001B[0maxs\u001B[0m\u001B[1;33m[\u001B[0m\u001B[1;36m0\u001B[0m\u001B[1;33m]\u001B[0m\u001B[1;33m.\u001B[0m\u001B[0mset_title\u001B[0m\u001B[1;33m(\u001B[0m\u001B[1;34m\"Segmentation\"\u001B[0m\u001B[1;33m)\u001B[0m\u001B[1;33m\u001B[0m\u001B[1;33m\u001B[0m\u001B[0m\n",
      "\u001B[1;31mNameError\u001B[0m: name 'image_segmentation' is not defined"
     ]
    }
   ],
   "source": [
    "segmented_imgs, flat_segmented_imgs = image_segmentation(k=5)\n",
    "for img_index in range(5):\n",
    "    fig, axs = plt.subplots(1, 6, figsize=(100, 20))\n",
    "    axs[0].imshow(segmented_imgs[img_index] + 1)\n",
    "    axs[0].set_title(\"Segmentation\")\n",
    "\n",
    "    for gt_img_index in range(len(groundTruth[img_index])):\n",
    "        _, _,_new_gt = evaluate_segmentation(img_index, gt_img_index, flat_segmented_imgs[img_index], k=5)\n",
    "        axs[gt_img_index + 1].imshow(_new_gt)"
   ]
  },
  {
   "cell_type": "code",
   "execution_count": 6,
   "metadata": {
    "pycharm": {
     "name": "#%%\n"
    }
   },
   "outputs": [],
   "source": [
    "# resize and get distance matrix\n",
    "dist_mat=[]\n",
    "for i in range(5):\n",
    "    resized_image = cv2.resize(images[i], (100, 100))\n",
    "    flattened_image = resized_image.reshape(resized_image.shape[0] *resized_image.shape[1], resized_image.shape[2])\n",
    "    dist_mat.append(distance_matrix(flattened_image,flattened_image,p=2))\n",
    "dist_mat=np.array(dist_mat)"
   ]
  },
  {
   "cell_type": "code",
   "execution_count": 7,
   "metadata": {
    "pycharm": {
     "name": "#%%\n"
    }
   },
   "outputs": [],
   "source": [
    "def Ncut(dist_mat, k, knn):\n",
    "\n",
    "  #lab. mat\n",
    "  A = kneighbors_graph(dist_mat , knn , mode='connectivity', include_self=False).toarray()\n",
    "  D = np.diag(np.sum(A, axis=1))\n",
    "  L = D - A\n",
    "\n",
    "  #eigen\n",
    "  eigen_values, eigen_vectors = np.linalg.eig(np.dot(np.linalg.inv(D),L))\n",
    "  \n",
    "  idx = eigen_values.argsort()[::1]\n",
    "  eigen_values = eigen_values[idx]\n",
    "  eigen_vectors = eigen_vectors[:,idx]\n",
    "\n",
    "  Y = np.zeros(eigen_vectors.shape)\n",
    "  for i in range(eigen_vectors.shape[0]):\n",
    "    norm=np.linalg.norm(eigen_vectors[i])\n",
    "    Y[i]=eigen_vectors[i]/norm\n",
    "  \n",
    "  km = KMeans(n_clusters=k).fit(Y)\n",
    "  return km.labels_"
   ]
  },
  {
   "cell_type": "code",
   "execution_count": 8,
   "metadata": {
    "pycharm": {
     "name": "#%%\n"
    }
   },
   "outputs": [
    {
     "name": "stderr",
     "output_type": "stream",
     "text": [
      "C:\\Users\\smart\\sheet5\\venv\\lib\\site-packages\\ipykernel_launcher.py:17: ComplexWarning: Casting complex values to real discards the imaginary part\n",
      "  app.launch_new_instance()\n",
      "C:\\Users\\smart\\sheet5\\venv\\lib\\site-packages\\ipykernel_launcher.py:17: ComplexWarning: Casting complex values to real discards the imaginary part\n",
      "  app.launch_new_instance()\n",
      "C:\\Users\\smart\\sheet5\\venv\\lib\\site-packages\\ipykernel_launcher.py:17: ComplexWarning: Casting complex values to real discards the imaginary part\n",
      "  app.launch_new_instance()\n",
      "C:\\Users\\smart\\sheet5\\venv\\lib\\site-packages\\ipykernel_launcher.py:17: ComplexWarning: Casting complex values to real discards the imaginary part\n",
      "  app.launch_new_instance()\n",
      "C:\\Users\\smart\\sheet5\\venv\\lib\\site-packages\\ipykernel_launcher.py:17: ComplexWarning: Casting complex values to real discards the imaginary part\n",
      "  app.launch_new_instance()\n"
     ]
    }
   ],
   "source": [
    "n_segmented=[]\n",
    "for i in range(5):\n",
    "    n_segmented.append(Ncut(dist_mat[i],k=5,knn=5))\n",
    "n_segmented=np.array(n_segmented)"
   ]
  },
  {
   "cell_type": "code",
   "execution_count": 5,
   "metadata": {
    "pycharm": {
     "name": "#%%\n"
    }
   },
   "outputs": [
    {
     "ename": "NameError",
     "evalue": "name 'plt' is not defined",
     "output_type": "error",
     "traceback": [
      "\u001B[1;31m---------------------------------------------------------------------------\u001B[0m",
      "\u001B[1;31mNameError\u001B[0m                                 Traceback (most recent call last)",
      "\u001B[1;32m~\\AppData\\Local\\Temp\\ipykernel_21660\\2043091909.py\u001B[0m in \u001B[0;36m<module>\u001B[1;34m\u001B[0m\n\u001B[0;32m      1\u001B[0m \u001B[1;32mfor\u001B[0m \u001B[0mimg_index\u001B[0m \u001B[1;32min\u001B[0m \u001B[0mrange\u001B[0m\u001B[1;33m(\u001B[0m\u001B[1;36m5\u001B[0m\u001B[1;33m)\u001B[0m\u001B[1;33m:\u001B[0m\u001B[1;33m\u001B[0m\u001B[1;33m\u001B[0m\u001B[0m\n\u001B[1;32m----> 2\u001B[1;33m     \u001B[0mfig\u001B[0m\u001B[1;33m,\u001B[0m \u001B[0maxs\u001B[0m \u001B[1;33m=\u001B[0m \u001B[0mplt\u001B[0m\u001B[1;33m.\u001B[0m\u001B[0msubplots\u001B[0m\u001B[1;33m(\u001B[0m\u001B[1;36m1\u001B[0m\u001B[1;33m,\u001B[0m \u001B[1;36m7\u001B[0m\u001B[1;33m,\u001B[0m \u001B[0mfigsize\u001B[0m\u001B[1;33m=\u001B[0m\u001B[1;33m(\u001B[0m\u001B[1;36m100\u001B[0m\u001B[1;33m,\u001B[0m \u001B[1;36m20\u001B[0m\u001B[1;33m)\u001B[0m\u001B[1;33m)\u001B[0m\u001B[1;33m\u001B[0m\u001B[1;33m\u001B[0m\u001B[0m\n\u001B[0m\u001B[0;32m      3\u001B[0m     \u001B[0maxs\u001B[0m\u001B[1;33m[\u001B[0m\u001B[1;36m0\u001B[0m\u001B[1;33m]\u001B[0m\u001B[1;33m.\u001B[0m\u001B[0mimshow\u001B[0m\u001B[1;33m(\u001B[0m\u001B[0mn_segmented\u001B[0m\u001B[1;33m[\u001B[0m\u001B[0mimg_index\u001B[0m\u001B[1;33m]\u001B[0m\u001B[1;33m.\u001B[0m\u001B[0mreshape\u001B[0m\u001B[1;33m(\u001B[0m\u001B[1;33m(\u001B[0m\u001B[1;36m100\u001B[0m\u001B[1;33m,\u001B[0m\u001B[1;36m100\u001B[0m\u001B[1;33m)\u001B[0m\u001B[1;33m)\u001B[0m\u001B[1;33m)\u001B[0m\u001B[1;33m\u001B[0m\u001B[1;33m\u001B[0m\u001B[0m\n\u001B[0;32m      4\u001B[0m     \u001B[0maxs\u001B[0m\u001B[1;33m[\u001B[0m\u001B[1;36m0\u001B[0m\u001B[1;33m]\u001B[0m\u001B[1;33m.\u001B[0m\u001B[0mset_title\u001B[0m\u001B[1;33m(\u001B[0m\u001B[1;34m\"N_Segmentation\"\u001B[0m\u001B[1;33m)\u001B[0m\u001B[1;33m\u001B[0m\u001B[1;33m\u001B[0m\u001B[0m\n\u001B[0;32m      5\u001B[0m     \u001B[0maxs\u001B[0m\u001B[1;33m[\u001B[0m\u001B[1;36m1\u001B[0m\u001B[1;33m]\u001B[0m\u001B[1;33m.\u001B[0m\u001B[0mimshow\u001B[0m\u001B[1;33m(\u001B[0m\u001B[0msegmented_imgs\u001B[0m\u001B[1;33m[\u001B[0m\u001B[0mimg_index\u001B[0m\u001B[1;33m]\u001B[0m\u001B[1;33m)\u001B[0m\u001B[1;33m\u001B[0m\u001B[1;33m\u001B[0m\u001B[0m\n",
      "\u001B[1;31mNameError\u001B[0m: name 'plt' is not defined"
     ]
    }
   ],
   "source": [
    "for img_index in range(5):\n",
    "    fig, axs = plt.subplots(1, 7, figsize=(100, 20))\n",
    "    axs[0].imshow(n_segmented[img_index].reshape((100,100)))\n",
    "    axs[0].set_title(\"N_Segmentation\")\n",
    "    axs[1].imshow(segmented_imgs[img_index])\n",
    "    axs[1].set_title(\"k_Segmentation\")\n",
    "    for gt_img_index in range(len(groundTruth[i])):\n",
    "        axs[gt_img_index + 2].imshow(groundTruth[img_index][gt_img_index])"
   ]
  },
  {
   "cell_type": "code",
   "execution_count": 18,
   "metadata": {
    "pycharm": {
     "name": "#%%"
    }
   },
   "outputs": [],
   "source": [
    "images=None\n",
    "segmented_imgs=None\n",
    "groundTruth=None\n",
    "groundTruthPerImage=None"
   ]
  },
  {
   "cell_type": "code",
   "execution_count": null,
   "metadata": {
    "pycharm": {
     "name": "#%%\n"
    }
   },
   "outputs": [],
   "source": []
  }
 ],
 "metadata": {
  "kernelspec": {
   "display_name": "Python 3 (ipykernel)",
   "language": "python",
   "name": "python3"
  },
  "language_info": {
   "codemirror_mode": {
    "name": "ipython",
    "version": 3
   },
   "file_extension": ".py",
   "mimetype": "text/x-python",
   "name": "python",
   "nbconvert_exporter": "python",
   "pygments_lexer": "ipython3",
   "version": "3.7.8"
  }
 },
 "nbformat": 4,
 "nbformat_minor": 1
}